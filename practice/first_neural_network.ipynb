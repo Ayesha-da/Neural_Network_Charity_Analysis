{
 "cells": [
  {
   "cell_type": "code",
   "execution_count": 2,
   "id": "030b942b",
   "metadata": {},
   "outputs": [],
   "source": [
    "import pandas as pd\n",
    "import matplotlib as plt\n",
    "from sklearn.datasets import make_blobs\n",
    "import sklearn as skl\n",
    "import tensorflow as tf"
   ]
  },
  {
   "cell_type": "code",
   "execution_count": 3,
   "id": "a853b94c",
   "metadata": {},
   "outputs": [
    {
     "data": {
      "text/html": [
       "<div>\n",
       "<style scoped>\n",
       "    .dataframe tbody tr th:only-of-type {\n",
       "        vertical-align: middle;\n",
       "    }\n",
       "\n",
       "    .dataframe tbody tr th {\n",
       "        vertical-align: top;\n",
       "    }\n",
       "\n",
       "    .dataframe thead th {\n",
       "        text-align: right;\n",
       "    }\n",
       "</style>\n",
       "<table border=\"1\" class=\"dataframe\">\n",
       "  <thead>\n",
       "    <tr style=\"text-align: right;\">\n",
       "      <th></th>\n",
       "      <th>Feature 1</th>\n",
       "      <th>Feature 2</th>\n",
       "      <th>Target</th>\n",
       "    </tr>\n",
       "  </thead>\n",
       "  <tbody>\n",
       "    <tr>\n",
       "      <th>0</th>\n",
       "      <td>5.478098</td>\n",
       "      <td>7.203714</td>\n",
       "      <td>1</td>\n",
       "    </tr>\n",
       "    <tr>\n",
       "      <th>1</th>\n",
       "      <td>-8.428483</td>\n",
       "      <td>4.121889</td>\n",
       "      <td>0</td>\n",
       "    </tr>\n",
       "    <tr>\n",
       "      <th>2</th>\n",
       "      <td>-7.905447</td>\n",
       "      <td>3.323639</td>\n",
       "      <td>0</td>\n",
       "    </tr>\n",
       "    <tr>\n",
       "      <th>3</th>\n",
       "      <td>6.411041</td>\n",
       "      <td>5.523013</td>\n",
       "      <td>1</td>\n",
       "    </tr>\n",
       "    <tr>\n",
       "      <th>4</th>\n",
       "      <td>7.288599</td>\n",
       "      <td>6.171226</td>\n",
       "      <td>1</td>\n",
       "    </tr>\n",
       "    <tr>\n",
       "      <th>...</th>\n",
       "      <td>...</td>\n",
       "      <td>...</td>\n",
       "      <td>...</td>\n",
       "    </tr>\n",
       "    <tr>\n",
       "      <th>995</th>\n",
       "      <td>6.208962</td>\n",
       "      <td>5.233968</td>\n",
       "      <td>1</td>\n",
       "    </tr>\n",
       "    <tr>\n",
       "      <th>996</th>\n",
       "      <td>-9.795754</td>\n",
       "      <td>3.502709</td>\n",
       "      <td>0</td>\n",
       "    </tr>\n",
       "    <tr>\n",
       "      <th>997</th>\n",
       "      <td>4.335167</td>\n",
       "      <td>5.928298</td>\n",
       "      <td>1</td>\n",
       "    </tr>\n",
       "    <tr>\n",
       "      <th>998</th>\n",
       "      <td>-8.466632</td>\n",
       "      <td>3.577022</td>\n",
       "      <td>0</td>\n",
       "    </tr>\n",
       "    <tr>\n",
       "      <th>999</th>\n",
       "      <td>-8.386629</td>\n",
       "      <td>4.179025</td>\n",
       "      <td>0</td>\n",
       "    </tr>\n",
       "  </tbody>\n",
       "</table>\n",
       "<p>1000 rows × 3 columns</p>\n",
       "</div>"
      ],
      "text/plain": [
       "     Feature 1  Feature 2  Target\n",
       "0     5.478098   7.203714       1\n",
       "1    -8.428483   4.121889       0\n",
       "2    -7.905447   3.323639       0\n",
       "3     6.411041   5.523013       1\n",
       "4     7.288599   6.171226       1\n",
       "..         ...        ...     ...\n",
       "995   6.208962   5.233968       1\n",
       "996  -9.795754   3.502709       0\n",
       "997   4.335167   5.928298       1\n",
       "998  -8.466632   3.577022       0\n",
       "999  -8.386629   4.179025       0\n",
       "\n",
       "[1000 rows x 3 columns]"
      ]
     },
     "execution_count": 3,
     "metadata": {},
     "output_type": "execute_result"
    }
   ],
   "source": [
    "# Generate dummy dataset\n",
    "X,y=make_blobs(n_samples=1000,centers=2,n_features=2,random_state=78)\n",
    "\n",
    "#Creating a DataFrame with the dummy data\n",
    "df=pd.DataFrame(X, columns=[\"Feature 1\",\"Feature 2\"])\n",
    "df[\"Target\"] = y\n",
    "df"
   ]
  },
  {
   "cell_type": "code",
   "execution_count": 4,
   "id": "259193b2",
   "metadata": {},
   "outputs": [
    {
     "data": {
      "text/plain": [
       "<AxesSubplot:xlabel='Feature 1', ylabel='Feature 2'>"
      ]
     },
     "execution_count": 4,
     "metadata": {},
     "output_type": "execute_result"
    },
    {
     "data": {
      "image/png": "[encoded data removed]",
      "text/plain": [
       "<Figure size 432x288 with 2 Axes>"
      ]
     },
     "metadata": {
      "needs_background": "light"
     },
     "output_type": "display_data"
    }
   ],
   "source": [
    "# Plotting the dummy data\n",
    "df.plot.scatter(x=\"Feature 1\", y=\"Feature 2\", c=\"Target\", colormap=\"winter\")"
   ]
  },
  {
   "cell_type": "code",
   "execution_count": 5,
   "id": "6ed8c4d4",
   "metadata": {},
   "outputs": [],
   "source": [
    "# Use sklearn to split dataset\n",
    "from sklearn.model_selection import train_test_split\n",
    "X_train,X_test,y_train,y_test=train_test_split(X,y,random_state=78)"
   ]
  },
  {
   "cell_type": "code",
   "execution_count": 6,
   "id": "a559f07c",
   "metadata": {},
   "outputs": [],
   "source": [
    "# create scaler instance\n",
    "X_scaler=skl.preprocessing.StandardScaler()\n",
    "\n",
    "#fit the scaler\n",
    "X_scaler.fit(X_train)\n",
    "\n",
    "#scale the data\n",
    "X_train_scaled=X_scaler.transform(X_train)\n",
    "X_test_scaled=X_scaler.transform(X_test)"
   ]
  },
  {
   "cell_type": "code",
   "execution_count": 7,
   "id": "d6a2d2d6",
   "metadata": {},
   "outputs": [],
   "source": [
    "#create sequential model\n",
    "nn_model=tf.keras.models.Sequential()"
   ]
  },
  {
   "cell_type": "code",
   "execution_count": 8,
   "id": "0fc18e7f",
   "metadata": {},
   "outputs": [],
   "source": [
    "# Add our first Dense layer, including the input layer\n",
    "nn_model.add(tf.keras.layers.Dense(units=1,activation=\"relu\",input_dim=2))"
   ]
  },
  {
   "cell_type": "code",
   "execution_count": 9,
   "id": "480c925f",
   "metadata": {},
   "outputs": [],
   "source": [
    "# Add the output layer that uses a probability activation function\n",
    "nn_model.add(tf.keras.layers.Dense(units=1,activation=\"sigmoid\"))"
   ]
  },
  {
   "cell_type": "code",
   "execution_count": 10,
   "id": "94ff0e7a",
   "metadata": {},
   "outputs": [
    {
     "name": "stdout",
     "output_type": "stream",
     "text": [
      "Model: \"sequential\"\n",
      "_________________________________________________________________\n",
      "Layer (type)                 Output Shape              Param #   \n",
      "=================================================================\n",
      "dense (Dense)                (None, 1)                 3         \n",
      "_________________________________________________________________\n",
      "dense_1 (Dense)              (None, 1)                 2         \n",
      "=================================================================\n",
      "Total params: 5\n",
      "Trainable params: 5\n",
      "Non-trainable params: 0\n",
      "_________________________________________________________________\n"
     ]
    }
   ],
   "source": [
    "nn_model.summary()"
   ]
  },
  {
   "cell_type": "code",
   "execution_count": 11,
   "id": "c8175847",
   "metadata": {},
   "outputs": [],
   "source": [
    "# Compile the Sequential model together and customize metrics\n",
    "nn_model.compile(loss=\"binary_crossentropy\", optimizer=\"adam\", metrics=[\"accuracy\"])"
   ]
  },
  {
   "cell_type": "code",
   "execution_count": 12,
   "id": "1765f181",
   "metadata": {},
   "outputs": [
    {
     "name": "stdout",
     "output_type": "stream",
     "text": [
      "Epoch 1/100\n",
      "24/24 [==============================] - 0s 819us/step - loss: 0.5777 - accuracy: 0.8853\n",
      "Epoch 2/100\n",
      "24/24 [==============================] - 0s 740us/step - loss: 0.5634 - accuracy: 0.8920\n",
      "Epoch 3/100\n",
      "24/24 [==============================] - 0s 775us/step - loss: 0.5491 - accuracy: 0.8987\n",
      "Epoch 4/100\n",
      "24/24 [==============================] - 0s 793us/step - loss: 0.5349 - accuracy: 0.9093\n",
      "Epoch 5/100\n",
      "24/24 [==============================] - 0s 867us/step - loss: 0.5205 - accuracy: 0.9213\n",
      "Epoch 6/100\n",
      "24/24 [==============================] - 0s 829us/step - loss: 0.5067 - accuracy: 0.9253\n",
      "Epoch 7/100\n",
      "24/24 [==============================] - 0s 810us/step - loss: 0.4930 - accuracy: 0.9320\n",
      "Epoch 8/100\n",
      "24/24 [==============================] - 0s 829us/step - loss: 0.4798 - accuracy: 0.9373\n",
      "Epoch 9/100\n",
      "24/24 [==============================] - 0s 815us/step - loss: 0.4668 - accuracy: 0.9413\n",
      "Epoch 10/100\n",
      "24/24 [==============================] - 0s 692us/step - loss: 0.4542 - accuracy: 0.9480\n",
      "Epoch 11/100\n",
      "24/24 [==============================] - 0s 727us/step - loss: 0.4418 - accuracy: 0.9493\n",
      "Epoch 12/100\n",
      "24/24 [==============================] - 0s 763us/step - loss: 0.4298 - accuracy: 0.9533\n",
      "Epoch 13/100\n",
      "24/24 [==============================] - 0s 1ms/step - loss: 0.4181 - accuracy: 0.9600\n",
      "Epoch 14/100\n",
      "24/24 [==============================] - 0s 862us/step - loss: 0.4068 - accuracy: 0.9613\n",
      "Epoch 15/100\n",
      "24/24 [==============================] - 0s 985us/step - loss: 0.3960 - accuracy: 0.9640\n",
      "Epoch 16/100\n",
      "24/24 [==============================] - 0s 1ms/step - loss: 0.3855 - accuracy: 0.9653\n",
      "Epoch 17/100\n",
      "24/24 [==============================] - 0s 890us/step - loss: 0.3754 - accuracy: 0.9680\n",
      "Epoch 18/100\n",
      "24/24 [==============================] - 0s 792us/step - loss: 0.3655 - accuracy: 0.9720\n",
      "Epoch 19/100\n",
      "24/24 [==============================] - 0s 742us/step - loss: 0.3562 - accuracy: 0.9733\n",
      "Epoch 20/100\n",
      "24/24 [==============================] - 0s 854us/step - loss: 0.3470 - accuracy: 0.9747\n",
      "Epoch 21/100\n",
      "24/24 [==============================] - 0s 835us/step - loss: 0.3383 - accuracy: 0.9760\n",
      "Epoch 22/100\n",
      "24/24 [==============================] - 0s 888us/step - loss: 0.3298 - accuracy: 0.9760\n",
      "Epoch 23/100\n",
      "24/24 [==============================] - 0s 930us/step - loss: 0.3217 - accuracy: 0.9760\n",
      "Epoch 24/100\n",
      "24/24 [==============================] - 0s 1ms/step - loss: 0.3137 - accuracy: 0.9773\n",
      "Epoch 25/100\n",
      "24/24 [==============================] - 0s 953us/step - loss: 0.3060 - accuracy: 0.9827\n",
      "Epoch 26/100\n",
      "24/24 [==============================] - 0s 917us/step - loss: 0.2985 - accuracy: 0.9827\n",
      "Epoch 27/100\n",
      "24/24 [==============================] - 0s 1ms/step - loss: 0.2913 - accuracy: 0.9840\n",
      "Epoch 28/100\n",
      "24/24 [==============================] - 0s 771us/step - loss: 0.2842 - accuracy: 0.9840\n",
      "Epoch 29/100\n",
      "24/24 [==============================] - 0s 720us/step - loss: 0.2774 - accuracy: 0.9840\n",
      "Epoch 30/100\n",
      "24/24 [==============================] - 0s 867us/step - loss: 0.2707 - accuracy: 0.9840\n",
      "Epoch 31/100\n",
      "24/24 [==============================] - 0s 786us/step - loss: 0.2643 - accuracy: 0.9853\n",
      "Epoch 32/100\n",
      "24/24 [==============================] - 0s 809us/step - loss: 0.2581 - accuracy: 0.9853\n",
      "Epoch 33/100\n",
      "24/24 [==============================] - 0s 877us/step - loss: 0.2520 - accuracy: 0.9853\n",
      "Epoch 34/100\n",
      "24/24 [==============================] - 0s 787us/step - loss: 0.2462 - accuracy: 0.9867\n",
      "Epoch 35/100\n",
      "24/24 [==============================] - 0s 732us/step - loss: 0.2404 - accuracy: 0.9867\n",
      "Epoch 36/100\n",
      "24/24 [==============================] - 0s 773us/step - loss: 0.2349 - accuracy: 0.9867\n",
      "Epoch 37/100\n",
      "24/24 [==============================] - 0s 912us/step - loss: 0.2296 - accuracy: 0.9867\n",
      "Epoch 38/100\n",
      "24/24 [==============================] - 0s 770us/step - loss: 0.2243 - accuracy: 0.9867\n",
      "Epoch 39/100\n",
      "24/24 [==============================] - 0s 819us/step - loss: 0.2193 - accuracy: 0.9880\n",
      "Epoch 40/100\n",
      "24/24 [==============================] - 0s 740us/step - loss: 0.2144 - accuracy: 0.9893\n",
      "Epoch 41/100\n",
      "24/24 [==============================] - 0s 815us/step - loss: 0.2097 - accuracy: 0.9920\n",
      "Epoch 42/100\n",
      "24/24 [==============================] - 0s 792us/step - loss: 0.2051 - accuracy: 0.9933\n",
      "Epoch 43/100\n",
      "24/24 [==============================] - 0s 839us/step - loss: 0.2006 - accuracy: 0.9933\n",
      "Epoch 44/100\n",
      "24/24 [==============================] - 0s 912us/step - loss: 0.1964 - accuracy: 0.9947\n",
      "Epoch 45/100\n",
      "24/24 [==============================] - 0s 839us/step - loss: 0.1921 - accuracy: 0.9960\n",
      "Epoch 46/100\n",
      "24/24 [==============================] - 0s 866us/step - loss: 0.1881 - accuracy: 0.9960\n",
      "Epoch 47/100\n",
      "24/24 [==============================] - 0s 773us/step - loss: 0.1840 - accuracy: 0.9960\n",
      "Epoch 48/100\n",
      "24/24 [==============================] - 0s 769us/step - loss: 0.1802 - accuracy: 0.9960\n",
      "Epoch 49/100\n",
      "24/24 [==============================] - 0s 889us/step - loss: 0.1765 - accuracy: 0.9960\n",
      "Epoch 50/100\n",
      "24/24 [==============================] - 0s 791us/step - loss: 0.1728 - accuracy: 0.9960\n",
      "Epoch 51/100\n",
      "24/24 [==============================] - 0s 769us/step - loss: 0.1693 - accuracy: 0.9960\n",
      "Epoch 52/100\n",
      "24/24 [==============================] - 0s 890us/step - loss: 0.1658 - accuracy: 0.9960\n",
      "Epoch 53/100\n",
      "24/24 [==============================] - 0s 754us/step - loss: 0.1625 - accuracy: 0.9973\n",
      "Epoch 54/100\n",
      "24/24 [==============================] - 0s 877us/step - loss: 0.1593 - accuracy: 0.9973\n",
      "Epoch 55/100\n",
      "24/24 [==============================] - 0s 771us/step - loss: 0.1561 - accuracy: 0.9973\n",
      "Epoch 56/100\n",
      "24/24 [==============================] - 0s 828us/step - loss: 0.1530 - accuracy: 0.9973\n",
      "Epoch 57/100\n",
      "24/24 [==============================] - 0s 743us/step - loss: 0.1500 - accuracy: 0.9987\n",
      "Epoch 58/100\n",
      "24/24 [==============================] - 0s 779us/step - loss: 0.1471 - accuracy: 0.9987\n",
      "Epoch 59/100\n",
      "24/24 [==============================] - 0s 751us/step - loss: 0.1442 - accuracy: 0.9987\n",
      "Epoch 60/100\n",
      "24/24 [==============================] - 0s 840us/step - loss: 0.1414 - accuracy: 0.9987\n",
      "Epoch 61/100\n",
      "24/24 [==============================] - 0s 796us/step - loss: 0.1388 - accuracy: 0.9987\n",
      "Epoch 62/100\n",
      "24/24 [==============================] - 0s 818us/step - loss: 0.1361 - accuracy: 0.9987\n",
      "Epoch 63/100\n",
      "24/24 [==============================] - 0s 780us/step - loss: 0.1336 - accuracy: 1.0000\n",
      "Epoch 64/100\n",
      "24/24 [==============================] - 0s 776us/step - loss: 0.1311 - accuracy: 1.0000\n",
      "Epoch 65/100\n",
      "24/24 [==============================] - 0s 748us/step - loss: 0.1287 - accuracy: 1.0000\n",
      "Epoch 66/100\n",
      "24/24 [==============================] - 0s 792us/step - loss: 0.1264 - accuracy: 1.0000\n",
      "Epoch 67/100\n",
      "24/24 [==============================] - 0s 820us/step - loss: 0.1241 - accuracy: 1.0000\n",
      "Epoch 68/100\n",
      "24/24 [==============================] - 0s 740us/step - loss: 0.1219 - accuracy: 1.0000\n",
      "Epoch 69/100\n",
      "24/24 [==============================] - 0s 724us/step - loss: 0.1197 - accuracy: 1.0000\n",
      "Epoch 70/100\n",
      "24/24 [==============================] - 0s 821us/step - loss: 0.1176 - accuracy: 1.0000\n",
      "Epoch 71/100\n",
      "24/24 [==============================] - 0s 819us/step - loss: 0.1155 - accuracy: 1.0000\n",
      "Epoch 72/100\n",
      "24/24 [==============================] - 0s 791us/step - loss: 0.1135 - accuracy: 1.0000\n",
      "Epoch 73/100\n",
      "24/24 [==============================] - 0s 784us/step - loss: 0.1115 - accuracy: 1.0000\n",
      "Epoch 74/100\n",
      "24/24 [==============================] - 0s 754us/step - loss: 0.1096 - accuracy: 1.0000\n",
      "Epoch 75/100\n",
      "24/24 [==============================] - 0s 713us/step - loss: 0.1077 - accuracy: 1.0000\n",
      "Epoch 76/100\n",
      "24/24 [==============================] - 0s 752us/step - loss: 0.1059 - accuracy: 1.0000\n",
      "Epoch 77/100\n",
      "24/24 [==============================] - 0s 897us/step - loss: 0.1041 - accuracy: 1.0000\n",
      "Epoch 78/100\n",
      "24/24 [==============================] - 0s 1ms/step - loss: 0.1023 - accuracy: 1.0000\n",
      "Epoch 79/100\n",
      "24/24 [==============================] - 0s 956us/step - loss: 0.1006 - accuracy: 1.0000\n",
      "Epoch 80/100\n",
      "24/24 [==============================] - 0s 786us/step - loss: 0.0989 - accuracy: 1.0000\n",
      "Epoch 81/100\n"
     ]
    },
    {
     "name": "stdout",
     "output_type": "stream",
     "text": [
      "24/24 [==============================] - 0s 895us/step - loss: 0.0973 - accuracy: 1.0000\n",
      "Epoch 82/100\n",
      "24/24 [==============================] - 0s 881us/step - loss: 0.0957 - accuracy: 1.0000\n",
      "Epoch 83/100\n",
      "24/24 [==============================] - 0s 761us/step - loss: 0.0941 - accuracy: 1.0000\n",
      "Epoch 84/100\n",
      "24/24 [==============================] - 0s 744us/step - loss: 0.0926 - accuracy: 1.0000\n",
      "Epoch 85/100\n",
      "24/24 [==============================] - 0s 730us/step - loss: 0.0911 - accuracy: 1.0000\n",
      "Epoch 86/100\n",
      "24/24 [==============================] - 0s 693us/step - loss: 0.0896 - accuracy: 1.0000\n",
      "Epoch 87/100\n",
      "24/24 [==============================] - 0s 830us/step - loss: 0.0882 - accuracy: 1.0000\n",
      "Epoch 88/100\n",
      "24/24 [==============================] - 0s 927us/step - loss: 0.0868 - accuracy: 1.0000\n",
      "Epoch 89/100\n",
      "24/24 [==============================] - 0s 886us/step - loss: 0.0854 - accuracy: 1.0000\n",
      "Epoch 90/100\n",
      "24/24 [==============================] - 0s 860us/step - loss: 0.0841 - accuracy: 1.0000\n",
      "Epoch 91/100\n",
      "24/24 [==============================] - 0s 976us/step - loss: 0.0828 - accuracy: 1.0000\n",
      "Epoch 92/100\n",
      "24/24 [==============================] - 0s 936us/step - loss: 0.0815 - accuracy: 1.0000\n",
      "Epoch 93/100\n",
      "24/24 [==============================] - 0s 1ms/step - loss: 0.0803 - accuracy: 1.0000\n",
      "Epoch 94/100\n",
      "24/24 [==============================] - 0s 928us/step - loss: 0.0790 - accuracy: 1.0000\n",
      "Epoch 95/100\n",
      "24/24 [==============================] - 0s 907us/step - loss: 0.0778 - accuracy: 1.0000\n",
      "Epoch 96/100\n",
      "24/24 [==============================] - 0s 682us/step - loss: 0.0766 - accuracy: 1.0000\n",
      "Epoch 97/100\n",
      "24/24 [==============================] - 0s 811us/step - loss: 0.0755 - accuracy: 1.0000\n",
      "Epoch 98/100\n",
      "24/24 [==============================] - 0s 790us/step - loss: 0.0744 - accuracy: 1.0000\n",
      "Epoch 99/100\n",
      "24/24 [==============================] - 0s 774us/step - loss: 0.0733 - accuracy: 1.0000\n",
      "Epoch 100/100\n",
      "24/24 [==============================] - 0s 821us/step - loss: 0.0722 - accuracy: 1.0000\n"
     ]
    }
   ],
   "source": [
    "# Fit the model to the training data\n",
    "fit_model=nn_model.fit(X_train_scaled,y_train,epochs=100)"
   ]
  },
  {
   "cell_type": "code",
   "execution_count": 15,
   "id": "eaa2b675",
   "metadata": {},
   "outputs": [
    {
     "data": {
      "text/plain": [
       "<AxesSubplot:>"
      ]
     },
     "execution_count": 15,
     "metadata": {},
     "output_type": "execute_result"
    },
    {
     "data": {
      "image/png": "[encoded data removed]",
      "text/plain": [
       "<Figure size 432x288 with 1 Axes>"
      ]
     },
     "metadata": {
      "needs_background": "light"
     },
     "output_type": "display_data"
    }
   ],
   "source": [
    "# Create a DataFrame containing training history\n",
    "history_df=pd.DataFrame(fit_model.history,index=range(1,len(fit_model.history[\"loss\"])+1))\n",
    "\n",
    "# Plot the loss\n",
    "history_df.plot(y=\"loss\")"
   ]
  },
  {
   "cell_type": "code",
   "execution_count": 16,
   "id": "093b76df",
   "metadata": {},
   "outputs": [
    {
     "data": {
      "text/plain": [
       "<AxesSubplot:>"
      ]
     },
     "execution_count": 16,
     "metadata": {},
     "output_type": "execute_result"
    },
    {
     "data": {
      "image/png": "[encoded data removed]",
      "text/plain": [
       "<Figure size 432x288 with 1 Axes>"
      ]
     },
     "metadata": {
      "needs_background": "light"
     },
     "output_type": "display_data"
    }
   ],
   "source": [
    "# Plot the accuracy\n",
    "history_df.plot(y=\"accuracy\")\n"
   ]
  },
  {
   "cell_type": "code",
   "execution_count": 17,
   "id": "3d4d3f73",
   "metadata": {},
   "outputs": [
    {
     "name": "stdout",
     "output_type": "stream",
     "text": [
      "8/8 - 0s - loss: 0.0673 - accuracy: 1.0000\n",
      "Loss: 0.06729064136743546, Accuracy: 1.0\n"
     ]
    }
   ],
   "source": [
    "# Evaluate the model using the test data\n",
    "model_loss, model_accuracy = nn_model.evaluate(X_test_scaled,y_test,verbose=2)\n",
    "print(f\"Loss: {model_loss}, Accuracy: {model_accuracy}\")"
   ]
  },
  {
   "cell_type": "code",
   "execution_count": 18,
   "id": "e5296684",
   "metadata": {},
   "outputs": [
    {
     "data": {
      "text/plain": [
       "array([[0],\n",
       "       [1],\n",
       "       [0],\n",
       "       [1],\n",
       "       [0],\n",
       "       [0],\n",
       "       [1],\n",
       "       [1],\n",
       "       [1],\n",
       "       [0]])"
      ]
     },
     "execution_count": 18,
     "metadata": {},
     "output_type": "execute_result"
    }
   ],
   "source": [
    "# Predict the classification of a new set of blob data\n",
    "new_X,new_y=make_blobs(n_samples=10,centers=2,n_features=2,random_state=78)\n",
    "new_X_scaled=X_scaler.transform(new_X)\n",
    "(nn_model.predict(new_X_scaled) > 0.5).astype(\"int32\")"
   ]
  },
  {
   "cell_type": "code",
   "execution_count": 21,
   "id": "b07da0d7",
   "metadata": {},
   "outputs": [
    {
     "data": {
      "text/plain": [
       "<AxesSubplot:xlabel='Feature 1', ylabel='Feature 2'>"
      ]
     },
     "execution_count": 21,
     "metadata": {},
     "output_type": "execute_result"
    },
    {
     "data": {
      "image/png": "[encoded data removed]",
      "text/plain": [
       "<Figure size 432x288 with 2 Axes>"
      ]
     },
     "metadata": {
      "needs_background": "light"
     },
     "output_type": "display_data"
    }
   ],
   "source": [
    "from sklearn.datasets import make_moons\n",
    "\n",
    "# Creating dummy nonlinear data\n",
    "X_moons, y_moons = make_moons(n_samples=1000, noise=0.08, random_state=78)\n",
    "\n",
    "# Transforming y_moons to a vertical vector\n",
    "y_moons = y_moons.reshape(-1, 1)\n",
    "\n",
    "# Creating a DataFrame to plot the nonlinear dummy data\n",
    "df_moons = pd.DataFrame(X_moons, columns=[\"Feature 1\", \"Feature 2\"])\n",
    "df_moons[\"Target\"] = y_moons\n",
    "\n",
    "# Plot the nonlinear dummy data\n",
    "df_moons.plot.scatter(x=\"Feature 1\",y=\"Feature 2\", c=\"Target\",colormap=\"winter\")"
   ]
  },
  {
   "cell_type": "code",
   "execution_count": 22,
   "id": "49d107d0",
   "metadata": {},
   "outputs": [],
   "source": [
    "# Create training and testing sets\n",
    "X_moon_train,X_moon_test,y_moon_train,y_moon_test=train_test_split(X_moons,y_moons,random_state=78)\n",
    "\n",
    "# Create the scaler instance\n",
    "X_moon_scaler=skl.preprocessing.StandardScaler()\n",
    "\n",
    "# Fit the scaler\n",
    "X_moon_scaler.fit(X_moon_train)\n",
    "\n",
    "# Scale the data\n",
    "X_moon_train_scaled = X_moon_scaler.transform(X_moon_train)\n",
    "X_moon_test_scaled = X_moon_scaler.transform(X_moon_test)"
   ]
  },
  {
   "cell_type": "code",
   "execution_count": 23,
   "id": "9c895237",
   "metadata": {},
   "outputs": [
    {
     "name": "stdout",
     "output_type": "stream",
     "text": [
      "Epoch 1/100\n",
      "24/24 [==============================] - 0s 901us/step - loss: 1.0764 - accuracy: 0.4773\n",
      "Epoch 2/100\n",
      "24/24 [==============================] - 0s 861us/step - loss: 0.9103 - accuracy: 0.5133\n",
      "Epoch 3/100\n",
      "24/24 [==============================] - 0s 741us/step - loss: 0.8058 - accuracy: 0.5387\n",
      "Epoch 4/100\n",
      "24/24 [==============================] - 0s 752us/step - loss: 0.7385 - accuracy: 0.5693\n",
      "Epoch 5/100\n",
      "24/24 [==============================] - 0s 856us/step - loss: 0.6879 - accuracy: 0.5920\n",
      "Epoch 6/100\n",
      "24/24 [==============================] - 0s 861us/step - loss: 0.6468 - accuracy: 0.6133\n",
      "Epoch 7/100\n",
      "24/24 [==============================] - 0s 809us/step - loss: 0.6126 - accuracy: 0.6240\n",
      "Epoch 8/100\n",
      "24/24 [==============================] - 0s 782us/step - loss: 0.5826 - accuracy: 0.6413\n",
      "Epoch 9/100\n",
      "24/24 [==============================] - 0s 923us/step - loss: 0.5567 - accuracy: 0.6653\n",
      "Epoch 10/100\n",
      "24/24 [==============================] - 0s 898us/step - loss: 0.5340 - accuracy: 0.6747\n",
      "Epoch 11/100\n",
      "24/24 [==============================] - 0s 877us/step - loss: 0.5135 - accuracy: 0.6853\n",
      "Epoch 12/100\n",
      "24/24 [==============================] - 0s 826us/step - loss: 0.4949 - accuracy: 0.6960\n",
      "Epoch 13/100\n",
      "24/24 [==============================] - 0s 847us/step - loss: 0.4784 - accuracy: 0.7107\n",
      "Epoch 14/100\n",
      "24/24 [==============================] - 0s 830us/step - loss: 0.4629 - accuracy: 0.7200\n",
      "Epoch 15/100\n",
      "24/24 [==============================] - 0s 894us/step - loss: 0.4490 - accuracy: 0.7293\n",
      "Epoch 16/100\n",
      "24/24 [==============================] - 0s 826us/step - loss: 0.4363 - accuracy: 0.7440\n",
      "Epoch 17/100\n",
      "24/24 [==============================] - 0s 826us/step - loss: 0.4244 - accuracy: 0.7547\n",
      "Epoch 18/100\n",
      "24/24 [==============================] - 0s 915us/step - loss: 0.4133 - accuracy: 0.7667\n",
      "Epoch 19/100\n",
      "24/24 [==============================] - 0s 852us/step - loss: 0.4031 - accuracy: 0.7787\n",
      "Epoch 20/100\n",
      "24/24 [==============================] - 0s 783us/step - loss: 0.3937 - accuracy: 0.7827\n",
      "Epoch 21/100\n",
      "24/24 [==============================] - 0s 780us/step - loss: 0.3846 - accuracy: 0.7880\n",
      "Epoch 22/100\n",
      "24/24 [==============================] - 0s 806us/step - loss: 0.3761 - accuracy: 0.7920\n",
      "Epoch 23/100\n",
      "24/24 [==============================] - 0s 802us/step - loss: 0.3682 - accuracy: 0.7987\n",
      "Epoch 24/100\n",
      "24/24 [==============================] - 0s 870us/step - loss: 0.3609 - accuracy: 0.8013\n",
      "Epoch 25/100\n",
      "24/24 [==============================] - 0s 913us/step - loss: 0.3541 - accuracy: 0.8080\n",
      "Epoch 26/100\n",
      "24/24 [==============================] - 0s 942us/step - loss: 0.3480 - accuracy: 0.8147\n",
      "Epoch 27/100\n",
      "24/24 [==============================] - 0s 939us/step - loss: 0.3424 - accuracy: 0.8213\n",
      "Epoch 28/100\n",
      "24/24 [==============================] - 0s 873us/step - loss: 0.3373 - accuracy: 0.8253\n",
      "Epoch 29/100\n",
      "24/24 [==============================] - 0s 819us/step - loss: 0.3325 - accuracy: 0.8333\n",
      "Epoch 30/100\n",
      "24/24 [==============================] - 0s 906us/step - loss: 0.3284 - accuracy: 0.8427\n",
      "Epoch 31/100\n",
      "24/24 [==============================] - 0s 844us/step - loss: 0.3244 - accuracy: 0.8427\n",
      "Epoch 32/100\n",
      "24/24 [==============================] - 0s 772us/step - loss: 0.3207 - accuracy: 0.8440\n",
      "Epoch 33/100\n",
      "24/24 [==============================] - 0s 798us/step - loss: 0.3173 - accuracy: 0.8507\n",
      "Epoch 34/100\n",
      "24/24 [==============================] - 0s 881us/step - loss: 0.3142 - accuracy: 0.8547\n",
      "Epoch 35/100\n",
      "24/24 [==============================] - 0s 845us/step - loss: 0.3112 - accuracy: 0.8560\n",
      "Epoch 36/100\n",
      "24/24 [==============================] - 0s 874us/step - loss: 0.3084 - accuracy: 0.8600\n",
      "Epoch 37/100\n",
      "24/24 [==============================] - 0s 782us/step - loss: 0.3059 - accuracy: 0.8640\n",
      "Epoch 38/100\n",
      "24/24 [==============================] - 0s 851us/step - loss: 0.3035 - accuracy: 0.8667\n",
      "Epoch 39/100\n",
      "24/24 [==============================] - 0s 939us/step - loss: 0.3013 - accuracy: 0.8667\n",
      "Epoch 40/100\n",
      "24/24 [==============================] - 0s 834us/step - loss: 0.2993 - accuracy: 0.8680\n",
      "Epoch 41/100\n",
      "24/24 [==============================] - 0s 895us/step - loss: 0.2971 - accuracy: 0.8680\n",
      "Epoch 42/100\n",
      "24/24 [==============================] - 0s 940us/step - loss: 0.2952 - accuracy: 0.8707\n",
      "Epoch 43/100\n",
      "24/24 [==============================] - 0s 853us/step - loss: 0.2934 - accuracy: 0.8707\n",
      "Epoch 44/100\n",
      "24/24 [==============================] - 0s 826us/step - loss: 0.2917 - accuracy: 0.8707\n",
      "Epoch 45/100\n",
      "24/24 [==============================] - 0s 840us/step - loss: 0.2902 - accuracy: 0.8733\n",
      "Epoch 46/100\n",
      "24/24 [==============================] - 0s 833us/step - loss: 0.2887 - accuracy: 0.8733\n",
      "Epoch 47/100\n",
      "24/24 [==============================] - 0s 824us/step - loss: 0.2873 - accuracy: 0.8733\n",
      "Epoch 48/100\n",
      "24/24 [==============================] - 0s 847us/step - loss: 0.2859 - accuracy: 0.8733\n",
      "Epoch 49/100\n",
      "24/24 [==============================] - 0s 847us/step - loss: 0.2847 - accuracy: 0.8733\n",
      "Epoch 50/100\n",
      "24/24 [==============================] - 0s 839us/step - loss: 0.2836 - accuracy: 0.8747\n",
      "Epoch 51/100\n",
      "24/24 [==============================] - 0s 848us/step - loss: 0.2824 - accuracy: 0.8747\n",
      "Epoch 52/100\n",
      "24/24 [==============================] - 0s 801us/step - loss: 0.2814 - accuracy: 0.8787\n",
      "Epoch 53/100\n",
      "24/24 [==============================] - 0s 814us/step - loss: 0.2804 - accuracy: 0.8787\n",
      "Epoch 54/100\n",
      "24/24 [==============================] - 0s 826us/step - loss: 0.2794 - accuracy: 0.8787\n",
      "Epoch 55/100\n",
      "24/24 [==============================] - 0s 783us/step - loss: 0.2785 - accuracy: 0.8813\n",
      "Epoch 56/100\n",
      "24/24 [==============================] - 0s 826us/step - loss: 0.2775 - accuracy: 0.8827\n",
      "Epoch 57/100\n",
      "24/24 [==============================] - 0s 913us/step - loss: 0.2767 - accuracy: 0.8840\n",
      "Epoch 58/100\n",
      "24/24 [==============================] - 0s 842us/step - loss: 0.2758 - accuracy: 0.8867\n",
      "Epoch 59/100\n",
      "24/24 [==============================] - 0s 913us/step - loss: 0.2751 - accuracy: 0.8867\n",
      "Epoch 60/100\n",
      "24/24 [==============================] - 0s 826us/step - loss: 0.2743 - accuracy: 0.8880\n",
      "Epoch 61/100\n",
      "24/24 [==============================] - 0s 826us/step - loss: 0.2735 - accuracy: 0.8880\n",
      "Epoch 62/100\n",
      "24/24 [==============================] - 0s 870us/step - loss: 0.2728 - accuracy: 0.8893\n",
      "Epoch 63/100\n",
      "24/24 [==============================] - 0s 826us/step - loss: 0.2721 - accuracy: 0.8893\n",
      "Epoch 64/100\n",
      "24/24 [==============================] - 0s 826us/step - loss: 0.2714 - accuracy: 0.8907\n",
      "Epoch 65/100\n",
      "24/24 [==============================] - 0s 876us/step - loss: 0.2708 - accuracy: 0.8920\n",
      "Epoch 66/100\n",
      "24/24 [==============================] - 0s 867us/step - loss: 0.2702 - accuracy: 0.8920\n",
      "Epoch 67/100\n",
      "24/24 [==============================] - 0s 826us/step - loss: 0.2696 - accuracy: 0.8920\n",
      "Epoch 68/100\n",
      "24/24 [==============================] - 0s 870us/step - loss: 0.2691 - accuracy: 0.8920\n",
      "Epoch 69/100\n",
      "24/24 [==============================] - 0s 957us/step - loss: 0.2685 - accuracy: 0.8933\n",
      "Epoch 70/100\n",
      "24/24 [==============================] - 0s 875us/step - loss: 0.2679 - accuracy: 0.8933\n",
      "Epoch 71/100\n",
      "24/24 [==============================] - 0s 827us/step - loss: 0.2674 - accuracy: 0.8933\n",
      "Epoch 72/100\n",
      "24/24 [==============================] - 0s 826us/step - loss: 0.2671 - accuracy: 0.8933\n",
      "Epoch 73/100\n",
      "24/24 [==============================] - 0s 826us/step - loss: 0.2665 - accuracy: 0.8933\n",
      "Epoch 74/100\n",
      "24/24 [==============================] - 0s 826us/step - loss: 0.2660 - accuracy: 0.8933\n",
      "Epoch 75/100\n",
      "24/24 [==============================] - 0s 836us/step - loss: 0.2657 - accuracy: 0.8933\n",
      "Epoch 76/100\n",
      "24/24 [==============================] - 0s 826us/step - loss: 0.2652 - accuracy: 0.8933\n",
      "Epoch 77/100\n",
      "24/24 [==============================] - 0s 759us/step - loss: 0.2648 - accuracy: 0.8933\n",
      "Epoch 78/100\n",
      "24/24 [==============================] - 0s 930us/step - loss: 0.2643 - accuracy: 0.8933\n",
      "Epoch 79/100\n",
      "24/24 [==============================] - 0s 826us/step - loss: 0.2640 - accuracy: 0.8920\n",
      "Epoch 80/100\n",
      "24/24 [==============================] - 0s 783us/step - loss: 0.2638 - accuracy: 0.8920\n",
      "Epoch 81/100\n"
     ]
    },
    {
     "name": "stdout",
     "output_type": "stream",
     "text": [
      "24/24 [==============================] - 0s 849us/step - loss: 0.2632 - accuracy: 0.8920\n",
      "Epoch 82/100\n",
      "24/24 [==============================] - 0s 782us/step - loss: 0.2629 - accuracy: 0.8920\n",
      "Epoch 83/100\n",
      "24/24 [==============================] - 0s 826us/step - loss: 0.2626 - accuracy: 0.8920\n",
      "Epoch 84/100\n",
      "24/24 [==============================] - 0s 913us/step - loss: 0.2622 - accuracy: 0.8920\n",
      "Epoch 85/100\n",
      "24/24 [==============================] - 0s 846us/step - loss: 0.2619 - accuracy: 0.8907\n",
      "Epoch 86/100\n",
      "24/24 [==============================] - 0s 826us/step - loss: 0.2616 - accuracy: 0.8907\n",
      "Epoch 87/100\n",
      "24/24 [==============================] - 0s 870us/step - loss: 0.2613 - accuracy: 0.8907\n",
      "Epoch 88/100\n",
      "24/24 [==============================] - 0s 926us/step - loss: 0.2610 - accuracy: 0.8907\n",
      "Epoch 89/100\n",
      "24/24 [==============================] - 0s 826us/step - loss: 0.2607 - accuracy: 0.8907\n",
      "Epoch 90/100\n",
      "24/24 [==============================] - 0s 826us/step - loss: 0.2604 - accuracy: 0.8907\n",
      "Epoch 91/100\n",
      "24/24 [==============================] - 0s 829us/step - loss: 0.2602 - accuracy: 0.8920\n",
      "Epoch 92/100\n",
      "24/24 [==============================] - 0s 764us/step - loss: 0.2601 - accuracy: 0.8907\n",
      "Epoch 93/100\n",
      "24/24 [==============================] - 0s 826us/step - loss: 0.2597 - accuracy: 0.8920\n",
      "Epoch 94/100\n",
      "24/24 [==============================] - 0s 891us/step - loss: 0.2596 - accuracy: 0.8920\n",
      "Epoch 95/100\n",
      "24/24 [==============================] - 0s 783us/step - loss: 0.2592 - accuracy: 0.8920\n",
      "Epoch 96/100\n",
      "24/24 [==============================] - 0s 831us/step - loss: 0.2590 - accuracy: 0.8920\n",
      "Epoch 97/100\n",
      "24/24 [==============================] - 0s 870us/step - loss: 0.2588 - accuracy: 0.8920\n",
      "Epoch 98/100\n",
      "24/24 [==============================] - 0s 870us/step - loss: 0.2585 - accuracy: 0.8920\n",
      "Epoch 99/100\n",
      "24/24 [==============================] - 0s 785us/step - loss: 0.2585 - accuracy: 0.8920\n",
      "Epoch 100/100\n",
      "24/24 [==============================] - 0s 867us/step - loss: 0.2581 - accuracy: 0.8920\n"
     ]
    }
   ],
   "source": [
    "# Training the model with the nonlinear data\n",
    "model_moon=nn_model.fit(X_moon_train_scaled, y_moon_train, epochs=100, shuffle=True)"
   ]
  },
  {
   "cell_type": "code",
   "execution_count": 24,
   "id": "95538e6c",
   "metadata": {},
   "outputs": [
    {
     "data": {
      "text/plain": [
       "<AxesSubplot:>"
      ]
     },
     "execution_count": 24,
     "metadata": {},
     "output_type": "execute_result"
    },
    {
     "data": {
      "image/png": "[encoded data removed]",
      "text/plain": [
       "<Figure size 432x288 with 1 Axes>"
      ]
     },
     "metadata": {
      "needs_background": "light"
     },
     "output_type": "display_data"
    }
   ],
   "source": [
    "# Create a DataFrame containing training history\n",
    "history_df = pd.DataFrame(model_moon.history, index=range(1,len(model_moon.history[\"loss\"])+1))\n",
    "\n",
    "# Plot the loss\n",
    "history_df.plot(y=\"loss\")"
   ]
  },
  {
   "cell_type": "code",
   "execution_count": 25,
   "id": "054c1d14",
   "metadata": {},
   "outputs": [
    {
     "data": {
      "text/plain": [
       "<AxesSubplot:>"
      ]
     },
     "execution_count": 25,
     "metadata": {},
     "output_type": "execute_result"
    },
    {
     "data": {
      "image/png": "[encoded data removed]",
      "text/plain": [
       "<Figure size 432x288 with 1 Axes>"
      ]
     },
     "metadata": {
      "needs_background": "light"
     },
     "output_type": "display_data"
    }
   ],
   "source": [
    "# Plot the accuracy\n",
    "history_df.plot(y=\"accuracy\")"
   ]
  },
  {
   "cell_type": "code",
   "execution_count": 27,
   "id": "0c821093",
   "metadata": {},
   "outputs": [],
   "source": [
    "# Generate our new Sequential model\n",
    "new_model=tf.keras.models.Sequential()"
   ]
  },
  {
   "cell_type": "code",
   "execution_count": 29,
   "id": "87f07b2c",
   "metadata": {},
   "outputs": [],
   "source": [
    "# Add the input and hidden layer\n",
    "number_inputs = 2\n",
    "number_hidden_nodes = 6\n",
    "\n",
    "new_model.add(tf.keras.layers.Dense(units=number_hidden_nodes, activation=\"relu\", input_dim=number_inputs))\n",
    "\n",
    "# Add the output layer that uses a probability activation function\n",
    "new_model.add(tf.keras.layers.Dense(units=1, activation=\"sigmoid\"))"
   ]
  },
  {
   "cell_type": "code",
   "execution_count": 30,
   "id": "51cf6e61",
   "metadata": {},
   "outputs": [
    {
     "name": "stdout",
     "output_type": "stream",
     "text": [
      "Epoch 1/100\n",
      "24/24 [==============================] - 0s 766us/step - loss: 0.7111 - accuracy: 0.5307\n",
      "Epoch 2/100\n",
      "24/24 [==============================] - 0s 606us/step - loss: 0.6931 - accuracy: 0.5307\n",
      "Epoch 3/100\n",
      "24/24 [==============================] - 0s 642us/step - loss: 0.6796 - accuracy: 0.5307\n",
      "Epoch 4/100\n",
      "24/24 [==============================] - 0s 609us/step - loss: 0.6678 - accuracy: 0.5307\n",
      "Epoch 5/100\n",
      "24/24 [==============================] - 0s 632us/step - loss: 0.6566 - accuracy: 0.5307\n",
      "Epoch 6/100\n",
      "24/24 [==============================] - 0s 681us/step - loss: 0.6450 - accuracy: 0.5307\n",
      "Epoch 7/100\n",
      "24/24 [==============================] - 0s 670us/step - loss: 0.6317 - accuracy: 0.5307\n",
      "Epoch 8/100\n",
      "24/24 [==============================] - 0s 653us/step - loss: 0.6170 - accuracy: 0.5400\n",
      "Epoch 9/100\n",
      "24/24 [==============================] - 0s 654us/step - loss: 0.6004 - accuracy: 0.6920\n",
      "Epoch 10/100\n",
      "24/24 [==============================] - 0s 637us/step - loss: 0.5832 - accuracy: 0.7507\n",
      "Epoch 11/100\n",
      "24/24 [==============================] - 0s 647us/step - loss: 0.5649 - accuracy: 0.7920\n",
      "Epoch 12/100\n",
      "24/24 [==============================] - 0s 630us/step - loss: 0.5474 - accuracy: 0.8093\n",
      "Epoch 13/100\n",
      "24/24 [==============================] - 0s 668us/step - loss: 0.5317 - accuracy: 0.8093\n",
      "Epoch 14/100\n",
      "24/24 [==============================] - 0s 689us/step - loss: 0.5171 - accuracy: 0.8120\n",
      "Epoch 15/100\n",
      "24/24 [==============================] - 0s 611us/step - loss: 0.5036 - accuracy: 0.8267\n",
      "Epoch 16/100\n",
      "24/24 [==============================] - 0s 618us/step - loss: 0.4910 - accuracy: 0.8387\n",
      "Epoch 17/100\n",
      "24/24 [==============================] - 0s 645us/step - loss: 0.4789 - accuracy: 0.8427\n",
      "Epoch 18/100\n",
      "24/24 [==============================] - 0s 660us/step - loss: 0.4678 - accuracy: 0.8480\n",
      "Epoch 19/100\n",
      "24/24 [==============================] - 0s 612us/step - loss: 0.4573 - accuracy: 0.8507\n",
      "Epoch 20/100\n",
      "24/24 [==============================] - 0s 665us/step - loss: 0.4478 - accuracy: 0.8640\n",
      "Epoch 21/100\n",
      "24/24 [==============================] - 0s 673us/step - loss: 0.4387 - accuracy: 0.8747\n",
      "Epoch 22/100\n",
      "24/24 [==============================] - 0s 646us/step - loss: 0.4300 - accuracy: 0.8747\n",
      "Epoch 23/100\n",
      "24/24 [==============================] - 0s 648us/step - loss: 0.4222 - accuracy: 0.8827\n",
      "Epoch 24/100\n",
      "24/24 [==============================] - 0s 620us/step - loss: 0.4149 - accuracy: 0.8880\n",
      "Epoch 25/100\n",
      "24/24 [==============================] - 0s 675us/step - loss: 0.4082 - accuracy: 0.8893\n",
      "Epoch 26/100\n",
      "24/24 [==============================] - 0s 631us/step - loss: 0.4017 - accuracy: 0.8933\n",
      "Epoch 27/100\n",
      "24/24 [==============================] - 0s 680us/step - loss: 0.3957 - accuracy: 0.8933\n",
      "Epoch 28/100\n",
      "24/24 [==============================] - 0s 682us/step - loss: 0.3902 - accuracy: 0.8947\n",
      "Epoch 29/100\n",
      "24/24 [==============================] - 0s 687us/step - loss: 0.3847 - accuracy: 0.9000\n",
      "Epoch 30/100\n",
      "24/24 [==============================] - 0s 696us/step - loss: 0.3797 - accuracy: 0.8973\n",
      "Epoch 31/100\n",
      "24/24 [==============================] - 0s 672us/step - loss: 0.3749 - accuracy: 0.8960\n",
      "Epoch 32/100\n",
      "24/24 [==============================] - 0s 674us/step - loss: 0.3704 - accuracy: 0.8973\n",
      "Epoch 33/100\n",
      "24/24 [==============================] - 0s 685us/step - loss: 0.3662 - accuracy: 0.8960\n",
      "Epoch 34/100\n",
      "24/24 [==============================] - 0s 671us/step - loss: 0.3621 - accuracy: 0.8947\n",
      "Epoch 35/100\n",
      "24/24 [==============================] - 0s 628us/step - loss: 0.3582 - accuracy: 0.8947\n",
      "Epoch 36/100\n",
      "24/24 [==============================] - 0s 683us/step - loss: 0.3547 - accuracy: 0.8920\n",
      "Epoch 37/100\n",
      "24/24 [==============================] - 0s 636us/step - loss: 0.3507 - accuracy: 0.8920\n",
      "Epoch 38/100\n",
      "24/24 [==============================] - 0s 661us/step - loss: 0.3473 - accuracy: 0.8933\n",
      "Epoch 39/100\n",
      "24/24 [==============================] - 0s 655us/step - loss: 0.3438 - accuracy: 0.8933\n",
      "Epoch 40/100\n",
      "24/24 [==============================] - 0s 644us/step - loss: 0.3406 - accuracy: 0.8960\n",
      "Epoch 41/100\n",
      "24/24 [==============================] - 0s 666us/step - loss: 0.3372 - accuracy: 0.8960\n",
      "Epoch 42/100\n",
      "24/24 [==============================] - 0s 635us/step - loss: 0.3340 - accuracy: 0.8960\n",
      "Epoch 43/100\n",
      "24/24 [==============================] - 0s 677us/step - loss: 0.3308 - accuracy: 0.8973\n",
      "Epoch 44/100\n",
      "24/24 [==============================] - 0s 732us/step - loss: 0.3276 - accuracy: 0.9000\n",
      "Epoch 45/100\n",
      "24/24 [==============================] - 0s 697us/step - loss: 0.3246 - accuracy: 0.9000\n",
      "Epoch 46/100\n",
      "24/24 [==============================] - 0s 703us/step - loss: 0.3218 - accuracy: 0.9013\n",
      "Epoch 47/100\n",
      "24/24 [==============================] - 0s 728us/step - loss: 0.3190 - accuracy: 0.9013\n",
      "Epoch 48/100\n",
      "24/24 [==============================] - 0s 683us/step - loss: 0.3161 - accuracy: 0.9013\n",
      "Epoch 49/100\n",
      "24/24 [==============================] - 0s 745us/step - loss: 0.3134 - accuracy: 0.9013\n",
      "Epoch 50/100\n",
      "24/24 [==============================] - 0s 640us/step - loss: 0.3107 - accuracy: 0.9000\n",
      "Epoch 51/100\n",
      "24/24 [==============================] - 0s 718us/step - loss: 0.3081 - accuracy: 0.9000\n",
      "Epoch 52/100\n",
      "24/24 [==============================] - 0s 710us/step - loss: 0.3054 - accuracy: 0.9000\n",
      "Epoch 53/100\n",
      "24/24 [==============================] - 0s 676us/step - loss: 0.3029 - accuracy: 0.9013\n",
      "Epoch 54/100\n",
      "24/24 [==============================] - 0s 626us/step - loss: 0.3004 - accuracy: 0.9000\n",
      "Epoch 55/100\n",
      "24/24 [==============================] - 0s 632us/step - loss: 0.2981 - accuracy: 0.9000\n",
      "Epoch 56/100\n",
      "24/24 [==============================] - 0s 680us/step - loss: 0.2957 - accuracy: 0.9000\n",
      "Epoch 57/100\n",
      "24/24 [==============================] - 0s 657us/step - loss: 0.2932 - accuracy: 0.9013\n",
      "Epoch 58/100\n",
      "24/24 [==============================] - 0s 609us/step - loss: 0.2912 - accuracy: 0.8987\n",
      "Epoch 59/100\n",
      "24/24 [==============================] - 0s 609us/step - loss: 0.2890 - accuracy: 0.8987\n",
      "Epoch 60/100\n",
      "24/24 [==============================] - 0s 609us/step - loss: 0.2871 - accuracy: 0.8987\n",
      "Epoch 61/100\n",
      "24/24 [==============================] - 0s 695us/step - loss: 0.2852 - accuracy: 0.8987\n",
      "Epoch 62/100\n",
      "24/24 [==============================] - 0s 609us/step - loss: 0.2832 - accuracy: 0.8987\n",
      "Epoch 63/100\n",
      "24/24 [==============================] - 0s 660us/step - loss: 0.2812 - accuracy: 0.9000\n",
      "Epoch 64/100\n",
      "24/24 [==============================] - 0s 652us/step - loss: 0.2795 - accuracy: 0.9000\n",
      "Epoch 65/100\n",
      "24/24 [==============================] - 0s 656us/step - loss: 0.2777 - accuracy: 0.9000\n",
      "Epoch 66/100\n",
      "24/24 [==============================] - 0s 668us/step - loss: 0.2760 - accuracy: 0.9013\n",
      "Epoch 67/100\n",
      "24/24 [==============================] - 0s 617us/step - loss: 0.2744 - accuracy: 0.9013\n",
      "Epoch 68/100\n",
      "24/24 [==============================] - 0s 652us/step - loss: 0.2730 - accuracy: 0.9013\n",
      "Epoch 69/100\n",
      "24/24 [==============================] - 0s 652us/step - loss: 0.2715 - accuracy: 0.9013\n",
      "Epoch 70/100\n",
      "24/24 [==============================] - 0s 654us/step - loss: 0.2701 - accuracy: 0.9013\n",
      "Epoch 71/100\n",
      "24/24 [==============================] - 0s 671us/step - loss: 0.2687 - accuracy: 0.9013\n",
      "Epoch 72/100\n",
      "24/24 [==============================] - 0s 715us/step - loss: 0.2675 - accuracy: 0.9013\n",
      "Epoch 73/100\n",
      "24/24 [==============================] - 0s 622us/step - loss: 0.2660 - accuracy: 0.9027\n",
      "Epoch 74/100\n",
      "24/24 [==============================] - 0s 665us/step - loss: 0.2649 - accuracy: 0.9027\n",
      "Epoch 75/100\n",
      "24/24 [==============================] - 0s 652us/step - loss: 0.2638 - accuracy: 0.9040\n",
      "Epoch 76/100\n",
      "24/24 [==============================] - 0s 652us/step - loss: 0.2626 - accuracy: 0.9040\n",
      "Epoch 77/100\n",
      "24/24 [==============================] - 0s 609us/step - loss: 0.2615 - accuracy: 0.9040\n",
      "Epoch 78/100\n",
      "24/24 [==============================] - 0s 655us/step - loss: 0.2603 - accuracy: 0.9040\n",
      "Epoch 79/100\n",
      "24/24 [==============================] - 0s 649us/step - loss: 0.2592 - accuracy: 0.9040\n",
      "Epoch 80/100\n",
      "24/24 [==============================] - 0s 634us/step - loss: 0.2584 - accuracy: 0.9040\n",
      "Epoch 81/100\n"
     ]
    },
    {
     "name": "stdout",
     "output_type": "stream",
     "text": [
      "24/24 [==============================] - 0s 625us/step - loss: 0.2573 - accuracy: 0.9040\n",
      "Epoch 82/100\n",
      "24/24 [==============================] - 0s 652us/step - loss: 0.2563 - accuracy: 0.9040\n",
      "Epoch 83/100\n",
      "24/24 [==============================] - 0s 608us/step - loss: 0.2554 - accuracy: 0.9053\n",
      "Epoch 84/100\n",
      "24/24 [==============================] - 0s 609us/step - loss: 0.2545 - accuracy: 0.9053\n",
      "Epoch 85/100\n",
      "24/24 [==============================] - 0s 609us/step - loss: 0.2536 - accuracy: 0.9067\n",
      "Epoch 86/100\n",
      "24/24 [==============================] - 0s 652us/step - loss: 0.2528 - accuracy: 0.9067\n",
      "Epoch 87/100\n",
      "24/24 [==============================] - 0s 609us/step - loss: 0.2526 - accuracy: 0.9040\n",
      "Epoch 88/100\n",
      "24/24 [==============================] - 0s 652us/step - loss: 0.2517 - accuracy: 0.9053\n",
      "Epoch 89/100\n",
      "24/24 [==============================] - 0s 652us/step - loss: 0.2507 - accuracy: 0.9067\n",
      "Epoch 90/100\n",
      "24/24 [==============================] - 0s 695us/step - loss: 0.2499 - accuracy: 0.9053\n",
      "Epoch 91/100\n",
      "24/24 [==============================] - 0s 652us/step - loss: 0.2493 - accuracy: 0.9053\n",
      "Epoch 92/100\n",
      "24/24 [==============================] - 0s 669us/step - loss: 0.2485 - accuracy: 0.9040\n",
      "Epoch 93/100\n",
      "24/24 [==============================] - 0s 652us/step - loss: 0.2479 - accuracy: 0.9040\n",
      "Epoch 94/100\n",
      "24/24 [==============================] - 0s 609us/step - loss: 0.2473 - accuracy: 0.9040\n",
      "Epoch 95/100\n",
      "24/24 [==============================] - 0s 652us/step - loss: 0.2470 - accuracy: 0.9040\n",
      "Epoch 96/100\n",
      "24/24 [==============================] - 0s 652us/step - loss: 0.2461 - accuracy: 0.9040\n",
      "Epoch 97/100\n",
      "24/24 [==============================] - 0s 652us/step - loss: 0.2455 - accuracy: 0.9040\n",
      "Epoch 98/100\n",
      "24/24 [==============================] - 0s 609us/step - loss: 0.2451 - accuracy: 0.9040\n",
      "Epoch 99/100\n",
      "24/24 [==============================] - 0s 652us/step - loss: 0.2445 - accuracy: 0.9040\n",
      "Epoch 100/100\n",
      "24/24 [==============================] - 0s 609us/step - loss: 0.2439 - accuracy: 0.9040\n"
     ]
    }
   ],
   "source": [
    "# Compile the Sequential model together and customize metrics\n",
    "new_model.compile(loss=\"binary_crossentropy\", optimizer=\"adam\", metrics=[\"accuracy\"])\n",
    "\n",
    "# Fit the model to the training data\n",
    "new_fit_model = new_model.fit(X_moon_train_scaled, y_moon_train, epochs=100, shuffle=True)\n"
   ]
  },
  {
   "cell_type": "code",
   "execution_count": null,
   "id": "bc4ad816",
   "metadata": {},
   "outputs": [],
   "source": [
    "# Generate our new Sequential model\n"
   ]
  }
 ],
 "metadata": {
  "kernelspec": {
   "display_name": "mlenv",
   "language": "python",
   "name": "mlenv"
  },
  "language_info": {
   "codemirror_mode": {
    "name": "ipython",
    "version": 3
   },
   "file_extension": ".py",
   "mimetype": "text/x-python",
   "name": "python",
   "nbconvert_exporter": "python",
   "pygments_lexer": "ipython3",
   "version": "3.7.10"
  }
 },
 "nbformat": 4,
 "nbformat_minor": 5
}
